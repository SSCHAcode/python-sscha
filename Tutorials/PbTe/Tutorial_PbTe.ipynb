{
 "cells": [
  {
   "cell_type": "markdown",
   "metadata": {},
   "source": [
    "# Pb Te\n",
    "\n",
    "In this tutorial we will setup, from scratch, a calculation of Lead Telluride (PbTe).\n",
    "a thermoelectric material with a really high termoelectric efficiency.\n",
    "\n",
    "Here, for carriying out the calculations, we will use quantum-espresso, ASE and the SSCHA for thermondynamical properties.\n",
    "To setup ASE to work with espresso, please refer to the official guide:\n",
    "https://wiki.fysik.dtu.dk/ase/ase/calculators/espresso.html\n",
    "\n",
    "I prepared a CIF of the experimental structure, you can download CIF files easily from online databases,\n",
    "or use ASE to build your own structure.\n",
    "In this case, the structure \"PbTe.cif\" has been downloaded from the American Minearologist Crystal Structure Database\n",
    "http://rruff.geo.arizona.edu/AMS/amcsd.php\n",
    "The pseudo-potentials used for the DFT calculation are located in pseudo_espresso, a full list of pseudos is available on the espresso \n",
    "website.\n",
    "\n"
   ]
  },
  {
   "cell_type": "markdown",
   "metadata": {},
   "source": [
    "## Preparation\n",
    "Both ASE and the SSCHA work in python, so we need to import them.\n",
    "Moreover, since we want to use quantum-espresso, we also import the Espresso calculation of ASE.\n",
    "This can be replaced your favorite calculator.\n"
   ]
  },
  {
   "cell_type": "code",
   "execution_count": 1,
   "metadata": {},
   "outputs": [
    {
     "name": "stdout",
     "output_type": "stream",
     "text": [
      "Using matplotlib backend: Qt5Agg\n",
      "Populating the interactive namespace from numpy and matplotlib\n"
     ]
    }
   ],
   "source": [
    "# Load in the notebook all scientific libraries\n",
    "# It can be replaced with:\n",
    "# from numpy import *\n",
    "# import numpy as np\n",
    "# from matplotlib.pyplot import *\n",
    "%pylab"
   ]
  },
  {
   "cell_type": "code",
   "execution_count": 2,
   "metadata": {},
   "outputs": [],
   "source": [
    "from __future__ import print_function\n",
    "from __future__ import division\n",
    "import sys,os\n",
    "\n",
    "import ase\n",
    "from ase.calculators.espresso import Espresso\n",
    "from ase.visualize import view\n",
    "\n",
    "# We import the basis modules for the SSCHA\n",
    "import cellconstructor as CC\n",
    "import cellconstructor.Structure\n",
    "import cellconstructor.Phonons\n",
    "\n",
    "# Import the SSCHA engine (we will use it later)\n",
    "import sscha, sscha.Ensemble, sscha.SchaMinimizer, sscha.Relax"
   ]
  },
  {
   "cell_type": "markdown",
   "metadata": {},
   "source": [
    "We will now setup the espresso calculator for ASE"
   ]
  },
  {
   "cell_type": "code",
   "execution_count": 3,
   "metadata": {},
   "outputs": [],
   "source": [
    "# Lets define the pseudopotentials\n",
    "pseudos = {\"Pb\": \"Pb.upf\",\n",
    "          \"Te\": \"Te.upf\"}\n",
    "\n",
    "# Now we define the parameters for the espresso calculations\n",
    "input_params = {\"ecutwfc\" : 60, # The plane-wave wave-function cutoff\n",
    "               \"ecutrho\": 240, # The density wave-function cutoff,\n",
    "               \"conv_thr\": 1e-6, # The convergence for the DFT self-consistency\n",
    "               \"pseudo_dir\" : \"pseudo_espresso\", # The directory of the pseudo potentials\n",
    "               \"tprnfor\" : True, # Print the forces\n",
    "               \"tstress\" : True # Print the stress tensor\n",
    "               }\n",
    "\n",
    "k_spacing = 0.2 #A^-1 The minimum distance in the Brillouin zone sampling\n",
    "\n",
    "espresso_calc = Espresso(input_data = input_params, pseudopotentials = pseudos, kspacing = k_spacing)"
   ]
  },
  {
   "cell_type": "markdown",
   "metadata": {},
   "source": [
    "We need to import the structure. "
   ]
  },
  {
   "cell_type": "code",
   "execution_count": 4,
   "metadata": {},
   "outputs": [],
   "source": [
    "PbTe_atoms = ase.io.read(\"PbTe.cif\")\n",
    "\n",
    "# We can view the structure\n",
    "view(PbTe_atoms)"
   ]
  },
  {
   "cell_type": "markdown",
   "metadata": {},
   "source": [
    "As you may have noticed, this structure is in the conventional cell.\n",
    "This is good for visualization purposes, but it makes calculations harder, as more atoms are present in the cell.\n",
    "So we redefine the new cell unsing cellconstructor to adapt system in the primitive cell.\n",
    "From an easy check on the structure, it is possible to recognize that the primitive vectors $\\vec{v'}$ \n",
    "can be obtained from the conventional vectors $v$ as follows:\n",
    "\n",
    "$$\n",
    "\\vec {v'}_1 = \\frac 12 \\left(\\vec v_1 + \\vec v_2\\right)\n",
    "$$\n",
    "$$\n",
    "\\vec {v'}_2 = \\frac 12 \\left(\\vec v_1 - \\vec v_2\\right)\n",
    "$$\n",
    "$$\n",
    "\\vec {v'}_3 = \\frac 12 \\left(\\vec v_1 + \\vec v_3\\right)\n",
    "$$"
   ]
  },
  {
   "cell_type": "code",
   "execution_count": 5,
   "metadata": {},
   "outputs": [],
   "source": [
    "# Initialize a Cellconstructor Structure\n",
    "struct = CC.Structure.Structure()\n",
    "struct.generate_from_ase_atoms(PbTe_atoms)\n",
    "\n",
    "# Define the new unit cell\n",
    "new_cell = struct.unit_cell.copy()\n",
    "new_cell[0,:] = .5 * struct.unit_cell[0,:] + .5*struct.unit_cell[1,:]\n",
    "new_cell[1,:] = .5 * struct.unit_cell[0,:] - .5*struct.unit_cell[1,:]\n",
    "new_cell[2,:] = .5 * struct.unit_cell[0,:] + .5*struct.unit_cell[2,:]\n",
    "\n",
    "# Apply the new unit cell to the structure\n",
    "# And remove duplicated atoms\n",
    "struct.unit_cell = new_cell\n",
    "struct.fix_coords_in_unit_cell()\n",
    "PbTe_primitive = struct.get_ase_atoms()\n",
    "\n",
    "view(PbTe_primitive)"
   ]
  },
  {
   "cell_type": "markdown",
   "metadata": {},
   "source": [
    "You can see that the new unit cell is much smaller than the previous one, and we actually have only two atoms per cell, \n",
    "as we expect from a rock salt structure.\n",
    "\n",
    "We now need to relax the cell. We can perform this operation from quantum espresso,\n",
    "telling him to run a variable cell relaxation\n"
   ]
  },
  {
   "cell_type": "code",
   "execution_count": null,
   "metadata": {},
   "outputs": [],
   "source": [
    "# We override (or add) the key for the calculation type\n",
    "input_params[\"calculation\"] = \"vc-relax\"\n",
    "# Generate once again the Espresso calculator\n",
    "espresso_calc = Espresso(input_data = input_params, pseudopotentials = pseudos, kspacing = k_spacing)\n",
    "\n",
    "# We attach the calculator to the cell\n",
    "PbTe_primitive.set_calculator(espresso_calc)\n",
    "\n",
    "# We run the relaxation\n",
    "equilibrium_energy = PbTe_primitive.get_total_energy() # It should take few minutes"
   ]
  },
  {
   "cell_type": "code",
   "execution_count": 22,
   "metadata": {},
   "outputs": [
    {
     "name": "stdout",
     "output_type": "stream",
     "text": [
      "Volume before optimization:  63.71002599999998  A^3\n",
      "Volume after optimization:  67.90591056326011  A^3\n"
     ]
    }
   ],
   "source": [
    "# Ase should have created an input file espresso.pwi that you can check\n",
    "# And redirect the output through espresso.pwo\n",
    "# This relaxation should have changed the structure\n",
    "# So we need to reload the structure from the output espresso file\n",
    "PbTe_final= ase.io.read(\"espresso.pwo\")\n",
    "\n",
    "print(\"Volume before optimization: \", PbTe_primitive.get_volume(), \" A^3\")\n",
    "print(\"Volume after optimization: \", PbTe_final.get_volume(), \" A^3\")"
   ]
  },
  {
   "cell_type": "markdown",
   "metadata": {},
   "source": [
    "Now we have a structure in the primitive unit cell and relaxed.\n",
    "I remark that the convergence parameters I chose for the minimization are too low to get accurate results,\n",
    "especially for the variable cell relaxation, where the pressure is computed. Here the value of the pressure is overestimated by about 5 GPa, increase the wave-function cutoff to 70 Ry and the density cutoff to 280 Ry to get a more accurate result."
   ]
  },
  {
   "cell_type": "markdown",
   "metadata": {},
   "source": [
    "### Harmonic calculation\n",
    "Now we need to perform an harmonic calculation to get the spectra.\n",
    "This can be done with perturbation theory with quantum espresso, \n",
    "or with phonopy if we want to use the finite displacement approach.\n",
    "\n",
    "I will show a very simple PDFT espresso run.\n",
    "We will compute the dynamical matrix on a 2x2x2 q mesh (equivalent of using a 2x2x2 supercell)\n",
    "and we will also compute effective charges as the system is an insulator.\n",
    "We will then save the results in harmonic_dyn filenames."
   ]
  },
  {
   "cell_type": "code",
   "execution_count": 25,
   "metadata": {},
   "outputs": [],
   "source": [
    "# We need an input file for phonon calculation in espresso.\n",
    "ph_input = \"\"\"\n",
    "&inputph\n",
    "    ! the final filename\n",
    "    fildyn = \"harmonic_dyn\"\n",
    "    \n",
    "    ! the q mesh\n",
    "    ldisp = .true.\n",
    "    nq1 = 2 \n",
    "    nq2 = 2\n",
    "    nq3 = 2\n",
    "    \n",
    "    ! compute also the effective charges and the dielectric tensor\n",
    "    epsil = .true.\n",
    "&end\n",
    "\"\"\"\n",
    "\n",
    "# We write the input script and execute the phonon calculation program\n",
    "with open(\"harmonic.phi\", \"w\") as f:\n",
    "    f.write(ph_input)\n",
    "\n",
    "# Run the calculation\n",
    "cmd = \"/usr/bin/mpirun -np 2 ph.x -npool 2 -i harmonic.phi > harmonic.pho\"\n",
    "res = os.system(cmd) # This command took with 4 i-7 processors about 5 minutes"
   ]
  },
  {
   "cell_type": "markdown",
   "metadata": {},
   "source": [
    "You can see that espresso generated several files:\n",
    "harmonic_dyn0\n",
    "harmonic_dyn1 ...\n",
    "We will import them with CellConstructor.\n",
    "\n",
    "We need only to know the number of total q independent points by symmetries, that is,\n",
    "the total number of dynamical matrix printed by espresso (harmonic_dyn0 does not count).\n",
    "In this case, it should be 3."
   ]
  },
  {
   "cell_type": "code",
   "execution_count": 7,
   "metadata": {},
   "outputs": [
    {
     "name": "stdout",
     "output_type": "stream",
     "text": [
      "-186.1459 cm-1\n",
      "-186.1459 cm-1\n",
      "-186.1459 cm-1\n",
      "-185.9474 cm-1\n",
      "-185.9474 cm-1\n",
      "-185.9474 cm-1\n",
      "-179.9445 cm-1\n",
      "-179.9445 cm-1\n",
      "-179.9445 cm-1\n",
      "-179.9445 cm-1\n",
      "-179.9445 cm-1\n",
      "-179.9445 cm-1\n",
      "-101.7456 cm-1\n",
      "-101.7456 cm-1\n",
      "-101.7456 cm-1\n",
      "-80.2691 cm-1\n",
      "-80.2691 cm-1\n",
      "-80.2691 cm-1\n",
      "-80.2691 cm-1\n",
      "-80.2691 cm-1\n",
      "-80.2691 cm-1\n",
      "48.0931 cm-1\n",
      "48.0931 cm-1\n",
      "48.0931 cm-1\n",
      "52.7799 cm-1\n",
      "52.7799 cm-1\n",
      "52.7799 cm-1\n",
      "52.7799 cm-1\n",
      "52.7799 cm-1\n",
      "52.7799 cm-1\n",
      "52.7799 cm-1\n",
      "52.7799 cm-1\n",
      "55.6362 cm-1\n",
      "55.6362 cm-1\n",
      "55.6362 cm-1\n",
      "55.6362 cm-1\n",
      "55.6362 cm-1\n",
      "55.6362 cm-1\n",
      "55.6362 cm-1\n",
      "55.6362 cm-1\n",
      "77.3157 cm-1\n",
      "77.3157 cm-1\n",
      "77.3157 cm-1\n",
      "77.3157 cm-1\n",
      "99.2432 cm-1\n",
      "99.2432 cm-1\n",
      "99.2432 cm-1\n",
      "99.2432 cm-1\n"
     ]
    }
   ],
   "source": [
    "# Load the dynamical matrices just computed\n",
    "harm_dyn = CC.Phonons.Phonons(\"harmonic_dyn\", nqirr =3) # We load harmonic_dynX with X = 1,2,3\n",
    "\n",
    "# Now we can print all the phonon frequencies\n",
    "w_s, pols = harm_dyn.DiagonalizeSupercell()\n",
    "# By default, the dynamical matrix is written in Ry/bohr^2, so the energy is in Ry\n",
    "# To transform them in cm-1 we can use the conversion factor provided by CellConstructor\n",
    "print (\"\\n\".join([\"{:.4f} cm-1\".format(w * CC.Units.RY_TO_CM) for w in  w_s]))"
   ]
  },
  {
   "cell_type": "markdown",
   "metadata": {},
   "source": [
    "What a mess?! many frequencies are imaginary (printed as negative).\n",
    "We do not even have the acoustic frequencies at gamma equal to zero."
   ]
  },
  {
   "cell_type": "markdown",
   "metadata": {},
   "source": [
    "This is due to two reasons:\n",
    "\n",
    "1. We have not converged parameters for the ab-initio simulation, so some of them may be artifact\n",
    "2. PbTe is a system with an incipient ferroelectric transition!\n",
    "\n",
    "The system wants to distort the cell to break the symmetries, so no matter how well we converge the phonon calculations,\n",
    "some imaginary frequencies will not be removed.\n",
    "\n",
    "This means that the structure is in a saddle-point of the Born-Oppenheimer (BO) energy landscape.\n",
    "However, PbTe is found in this structure even at T = 0 K experimentally.\n",
    "How is this possible? It is anharmonicity and quantum zero-point motion that stabilize the structure.\n",
    "\n",
    "Luckily, the SSCHA is made to deal with this kind of system.\n",
    "\n",
    "Note that the presence of imaginary frequencies prevents the application of any harmonic approximation."
   ]
  },
  {
   "cell_type": "markdown",
   "metadata": {},
   "source": [
    "# The Self-Consistent Harmonic Approximation\n",
    "Now we have all the ingredients to start a SSCHA calculation.\n",
    "The SSCHA finds the optimal gaussian density matrix that minimizes the free energy of the system:\n",
    "$$\n",
    "\\rho_{\\mathcal R, \\Upsilon}(\\vec R) = \\sqrt{\\det(\\Upsilon / 2\\pi)} \\exp \\left[ -\\frac 12 \\sum_{\\alpha\\beta} (R_\\alpha - \\mathcal{R}_\\alpha)\\Upsilon_{\\alpha\\beta}(R_\\beta - \\mathcal{R}_\\beta)\\right]\n",
    "$$\n",
    "where $\\mathcal{R}$ and $\\Upsilon$ are, respectively, the average centroid position and the \n",
    "covariance matrix of the gaussian, while $\\alpha,\\beta=1\\cdots 3N$ rum on both the atomic and the cartesian coordinates.\n",
    "\n",
    "In the specific case, the $\\rho_{\\mathcal R, \\Upsilon}(\\vec R)$ density matrix can be represented by a positive definite dynamical matrix.\n",
    "In fact, the equilibrium density matrix of any harmnic Hamiltonian is a gaussian. Our density matrix is related one to one to\n",
    "an auxiliary harmonic hamiltonian $\\mathcal H_{\\mathcal R, \\Upsilon}$.\n",
    "$$\n",
    "\\rho_{\\mathcal R, \\Upsilon} \\longleftrightarrow \\mathcal H_{\\mathcal R, \\Upsilon}\n",
    "$$\n",
    "\n",
    "## Preparation of the data\n",
    "First, we need to obtain a good starting point for our density matrix $\\rho$.\n",
    "We can use the harmonic dynamical matrix we computed on the previous step (harmnic_dyn).\n",
    "\n",
    "There is a problem: an harmonic hamiltonian must be positive definite to generate a density matrix, \n",
    "and the PbTe harmonic hamiltonian is not.\n",
    "Do not worry, the CellConstructor has a nice tool to force a dynamical matrix to be positive definite\n"
   ]
  },
  {
   "cell_type": "code",
   "execution_count": 8,
   "metadata": {},
   "outputs": [
    {
     "name": "stdout",
     "output_type": "stream",
     "text": [
      "0.0000 cm-1\n",
      "0.0000 cm-1\n",
      "0.0000 cm-1\n",
      "52.7799 cm-1\n",
      "52.7799 cm-1\n",
      "52.7799 cm-1\n",
      "52.7799 cm-1\n",
      "52.7799 cm-1\n",
      "52.7799 cm-1\n",
      "52.7799 cm-1\n",
      "52.7799 cm-1\n",
      "55.6362 cm-1\n",
      "55.6362 cm-1\n",
      "55.6362 cm-1\n",
      "55.6362 cm-1\n",
      "55.6362 cm-1\n",
      "55.6362 cm-1\n",
      "55.6362 cm-1\n",
      "55.6362 cm-1\n",
      "77.3157 cm-1\n",
      "77.3157 cm-1\n",
      "77.3157 cm-1\n",
      "77.3157 cm-1\n",
      "80.2691 cm-1\n",
      "80.2691 cm-1\n",
      "80.2691 cm-1\n",
      "80.2691 cm-1\n",
      "80.2691 cm-1\n",
      "80.2691 cm-1\n",
      "99.2432 cm-1\n",
      "99.2432 cm-1\n",
      "99.2432 cm-1\n",
      "99.2432 cm-1\n",
      "101.7456 cm-1\n",
      "101.7456 cm-1\n",
      "101.7456 cm-1\n",
      "179.9445 cm-1\n",
      "179.9445 cm-1\n",
      "179.9445 cm-1\n",
      "179.9445 cm-1\n",
      "179.9445 cm-1\n",
      "179.9445 cm-1\n",
      "186.1459 cm-1\n",
      "186.1459 cm-1\n",
      "186.1459 cm-1\n",
      "187.8042 cm-1\n",
      "187.8042 cm-1\n",
      "187.8042 cm-1\n"
     ]
    }
   ],
   "source": [
    "# Load the dynamical matrix \n",
    "dyn = CC.Phonons.Phonons(\"harmonic_dyn\", nqirr = 3)\n",
    "\n",
    "# Apply the sum rule and symmetries\n",
    "dyn.Symmetrize()\n",
    "\n",
    "# Flip the imaginary frequencies into real ones\n",
    "dyn.ForcePositiveDefinite()\n",
    "\n",
    "# We can print the frequencies to show the magic:\n",
    "w_s, pols = dyn.DiagonalizeSupercell()\n",
    "print (\"\\n\".join([\"{:.4f} cm-1\".format(w * CC.Units.RY_TO_CM) for w in  w_s]))"
   ]
  },
  {
   "cell_type": "markdown",
   "metadata": {},
   "source": [
    "As you can see, we eliminated the imaginary frquencies. This is no more the harmonic dynamical matrix, however it is a good starting point for defining the density matrix $\\rho_{\\mathcal R, \\Upsilon}(R)$.\n",
    "\n",
    "## The stochastic approach\n",
    "To solve the self-consistent harmonic approximation we use a stochastic approach: we generate random ionic configurations distributed according to $\\rho_{\\mathcal R, \\Upsilon}$ so that we can compute the free energy as\n",
    "$$\n",
    "F_{\\mathcal R, \\Upsilon} = F[{\\mathcal H}_{\\mathcal R, \\Upsilon}] + \\left<V(R) - \\mathcal V(R)\\right>_{\\rho_{\\mathcal R, \\Upsilon}}\n",
    "$$\n",
    "\n",
    "Here $F[\\mathcal H_{\\mathcal R, \\Upsilon}]$ is the free energy of the auxiliary harmonic hamiltonian $\\mathcal H_{\\mathcal R, \\Upsilon}$, \n",
    "$V(R)$ is the BO energy landscape, $\\mathcal V(R)$ is the harmonic potential of the auxiliary hamiltonian $\\mathcal H_{\\mathcal R, \\Upsilon}$ and $\\left<\\cdot\\right>_{\\rho_{\\mathcal R, \\Upsilon}}$ is the average over the $\\rho_{\\mathcal R, \\Upsilon}$ density matrix.\n",
    "\n",
    "So we need to generate the random ensemble."
   ]
  },
  {
   "cell_type": "code",
   "execution_count": 10,
   "metadata": {},
   "outputs": [],
   "source": [
    "# We setup an ensemble for the SSCHA at T = 100 K using the density matrix  from the dyn dynamical matrix\n",
    "ensemble = sscha.Ensemble.Ensemble(dyn, T0 = 1000, supercell= dyn.GetSupercell())\n",
    "\n",
    "# We generate 10 randomly displaced structures in the supercell\n",
    "ensemble.generate(N = 10) \n",
    "\n",
    "# We can look at one configuration to have an idea on how they look like\n",
    "# Hint: try to raise the temperature to 1000 K or 2000 K if you want to see a bigger distortion on the lattice\n",
    "view(ensemble.structures[0].get_ase_atoms())"
   ]
  },
  {
   "cell_type": "markdown",
   "metadata": {},
   "source": [
    "We need to compute the quantity $V(R)$ (the energy) and its gradient (the atomic forces) for each configuration. \n",
    "\n",
    "This can be done in many ways. You can do it manually:\n",
    "You can save the ensemble as text files with the atomic coordinates and cell in this way and use your own scripts to copy that on a cluster, setup your DFT calculation, parse the output files and copy them back here, or you can pass to the ensemble class the ASE calculator object, and it will compute automatically energy and forces.\n",
    "It is also possible to configure a cluster for a remote calculation so that the code will automatize anything.\n",
    "In the following subsections I will follow all the possibilities, you can jump directly to the section you are more interested in.\n",
    "\n",
    "### The ASE automatic calculation (local)\n",
    "We start with the easiest possible thing. We already performed the calculation using ASE for the cell relaxation, we will setup it\n",
    "now for a simple total energy DFT calculation, attach to our ensemble variable and compute the ensemble.\n",
    "\n",
    "**NOTE**: Sometimes calculators can fails randomly, therefore, the ensemble will automatically resubmit a calculation if it fails for 5 times. If 5 consecutive fails are found, then the calculation results in a crash.\n"
   ]
  },
  {
   "cell_type": "code",
   "execution_count": 29,
   "metadata": {},
   "outputs": [
    {
     "name": "stdout",
     "output_type": "stream",
     "text": [
      "conf 0 / 10\n",
      "conf 1 / 10\n",
      "conf 2 / 10\n",
      "conf 3 / 10\n",
      "conf 4 / 10\n",
      "conf 5 / 10\n",
      "conf 6 / 10\n",
      "conf 7 / 10\n",
      "conf 8 / 10\n",
      "conf 9 / 10\n"
     ]
    }
   ],
   "source": [
    "# Lets setup the espresso calculator for ASE\n",
    "# (You can substitute the following two lines with the calculator you prefer)\n",
    "input_params[\"calculation\"] = \"scf\" # Setup the simple DFT calculation\n",
    "\n",
    "espresso_calc = Espresso(pseudopotentials = pseudos, input_data = input_params, kspacing = k_spacing, koffset = k_offset)\n",
    "\n",
    "# Now we use the espresso calculator to compute all the configurations\n",
    "ensemble.compute_ensemble(espresso_calc)"
   ]
  },
  {
   "cell_type": "code",
   "execution_count": 30,
   "metadata": {},
   "outputs": [],
   "source": [
    "# Now we can save the ensemble, to reload it in any later moment\n",
    "ensemble.save(\"data_ensemble_ASE\", population = 1)"
   ]
  },
  {
   "cell_type": "markdown",
   "metadata": {},
   "source": [
    "### The manual calculation (local or on a cluster)\n",
    "Here we print on separated text file the atomic positions and the cell.\n",
    "We then need to parse with a script the ensemble to generate an input file for our favourite calculator, submit the calculation (it can be done on a cluster), and then parse the output files to obtain forces, energies and the stress tensors.\n",
    "\n",
    "\n",
    "I will present an example for quantum espresso, however, you can easily implement your scripts to work with your own code."
   ]
  },
  {
   "cell_type": "code",
   "execution_count": 31,
   "metadata": {},
   "outputs": [],
   "source": [
    "# We save the ensemble as it is, before computing the forces\n",
    "# The population flag allows us to save several ensembles inside the same directory\n",
    "# As the SSCHA is an iterative algorithm, we may need more steps to converge,\n",
    "# in this way we can save all the ensembles of the same SSCHA calculation inside the same directory\n",
    "ensemble.save(\"data_ensemble_manual\", population = 1)"
   ]
  },
  {
   "cell_type": "markdown",
   "metadata": {},
   "source": [
    "Now lets have a look on what files the code created insode data_ensemble_manual.\n",
    "The files we are interested in are:\n",
    "\n",
    "    u_population1_X.dat  \n",
    "    scf_population1_X.dat   \n",
    "    forces_population1_X.dat   \n",
    "    pressures_population1_X.dat    \n",
    "    energies_supercell_population1.dat\n",
    "\n",
    "In particular, the scf_population1_X.dat files contain the structures in the scf file format, that contains the info on the atomic position of each atom in the supercell written in alat units. The alat is a generic unit written on the first dynamical matrix used to generate the ensemble.\n",
    "It is stored in ensemble.dyn.alat in Angstrom, or it is the fourth value of the dynamical matrix in the quantum espresso format (expressed in Bohr)\n",
    "\n",
    "\n",
    "This is the file to parse in order to setup an input file for the total energy calculation.\n",
    "the forces_population1_X.dat and pressures_population1_X.dat are empty (filled with zeros).\n",
    "You must write on these files the forces on each atom and the stress tensor of the correspondint scf_population1_X.dat configuration.\n",
    "Similarly, energies_supercell_population1.dat must contain all the energies of the scf_population1_X.dat ordered as the X index.\n",
    "\n",
    "**Important:** the units must be for energies Ry, for forces Ry/bohr and for stress tensors Ry/bohr^3\n",
    "\n"
   ]
  },
  {
   "cell_type": "code",
   "execution_count": 11,
   "metadata": {},
   "outputs": [],
   "source": [
    "# Ok now we will use python to to parse the ensemble and generate input files for the ab-initio run\n",
    "\n",
    "# First of all, we must prepare a generic header for the calculation\n",
    "typical_espresso_header = \"\"\"\n",
    "&control\n",
    "    calculation = \"scf\"\n",
    "    tstress = .true.\n",
    "    tprnfor = .true.\n",
    "    disk_io = \"none\"\n",
    "    pseudo_dir = \"pseudo_espresso\"\n",
    "&end\n",
    "&system\n",
    "    nat = {}\n",
    "    ntyp = 2\n",
    "    ibrav = 0\n",
    "    ecutwfc = 40\n",
    "    ecutrho = 160\n",
    "&end\n",
    "&electrons\n",
    "    conv_thr = 1d-6\n",
    "    !diagonalization = \"cg\"\n",
    "&end\n",
    "\n",
    "ATOMIC_SPECIES\n",
    "Pb 207.2 Pb.upf\n",
    "Te 127.6 Te.upf\n",
    "\n",
    "K_POINTS automatic\n",
    "1 1 1 0 0 0\n",
    "\"\"\".format(ensemble.structures[0].N_atoms) \n",
    "# We extract the number of atoms form the ensemble and the celldm(1) from the dynamical matrix (it is stored in Angstrom, but espresso wants it in Bohr)\n",
    "# You can also read it on the fourth value of the first data line on the first dynamical matrix file (dyn_start_popilation1_1); In the latter case, it will be already in Bohr.\n",
    "\n",
    "# Now we need to read the scf files\n",
    "# \n",
    "all_scf_files = [os.path.join(\"data_ensemble_manual\", f) for f in os.listdir(\"data_ensemble_manual\") if f.startswith(\"scf_\")]\n",
    "\n",
    "# In the previous line  I am reading all the files inside data_ensemble_manual os.listdir(data_ensemble_manual) and iterating over them (the f variable)\n",
    "# I iterate only on the filenames that starts with scf_ \n",
    "# Then I join the directory name data_ensemble_manual to f. In unix it will be equal to data_ensemble_manual/scf_....\n",
    "# (using os.path.join to concatenate path assure to have the correct behaviour independently on the operating system\n",
    "\n",
    "# We will generate the input file in a new directory\n",
    "if not os.path.exists(\"run_calculation\"):\n",
    "    os.mkdir(\"run_calculation\")\n",
    "\n",
    "for file in all_scf_files:\n",
    "    # Now we are cycling on the scf_ files we found.\n",
    "    # We must extract the number of the file\n",
    "    # The file is the string \"data_ensemble_manual/scf_population1_X.dat\"\n",
    "    # Therefore the X number is after the last \"_\" and before the \".\" character\n",
    "    # We can split before the string file at each \"_\", isolate the last part \"X.dat\"\n",
    "    # and then split it again on \".\" (obtaining [\"X\", \"dat\"]) and select the first element\n",
    "    # then we convert the \"X\" string into an integer\n",
    "    number = int(file.split(\"_\")[-1].split(\".\")[0])\n",
    "    \n",
    "    # We decide the filename for the espresso input\n",
    "    # We will call it run_calculation/espresso_run_X.pwi\n",
    "    filename = os.path.join(\"run_calculation\", \"espresso_run_{}.pwi\".format(number))\n",
    "    \n",
    "    # We start writing the file\n",
    "    with open(filename, \"w\") as f:\n",
    "        # We write the header\n",
    "        f.write(typical_espresso_header)\n",
    "        \n",
    "        # Load the scf_population_X.dat file\n",
    "        ff = open(file, \"r\")\n",
    "        structure_lines = ff.readlines()\n",
    "        ff.close()\n",
    "        \n",
    "        # Write the content on the espresso_run_X.pwi file\n",
    "        # Note in the files we specify the units for both the cell and the structure [Angstrom]\n",
    "        f.writelines(structure_lines)\n",
    "        "
   ]
  },
  {
   "cell_type": "markdown",
   "metadata": {},
   "source": [
    "The previous code will generate the input files inside a directory run_calculation for quantum espresso.\n",
    "You can copy them to your cluster, submit a job, and copy back the results.\n",
    "For completeness, the next cell of code will perform the calculation locally, it could require some time.\n",
    "If you pass them to a supercomputer, remember to copy also the pseudos!"
   ]
  },
  {
   "cell_type": "code",
   "execution_count": 22,
   "metadata": {},
   "outputs": [
    {
     "name": "stdout",
     "output_type": "stream",
     "text": [
      "Running:  /usr/bin/mpirun -np 4 pw.x -i run_calculation/espresso_run_3.pwi > run_calculation/espresso_run_3.pwo\n",
      "Running:  /usr/bin/mpirun -np 4 pw.x -i run_calculation/espresso_run_9.pwi > run_calculation/espresso_run_9.pwo\n",
      "Running:  /usr/bin/mpirun -np 4 pw.x -i run_calculation/espresso_run_4.pwi > run_calculation/espresso_run_4.pwo\n",
      "Running:  /usr/bin/mpirun -np 4 pw.x -i run_calculation/espresso_run_8.pwi > run_calculation/espresso_run_8.pwo\n",
      "Running:  /usr/bin/mpirun -np 4 pw.x -i run_calculation/espresso_run_10.pwi > run_calculation/espresso_run_10.pwo\n",
      "Running:  /usr/bin/mpirun -np 4 pw.x -i run_calculation/espresso_run_6.pwi > run_calculation/espresso_run_6.pwo\n",
      "Running:  /usr/bin/mpirun -np 4 pw.x -i run_calculation/espresso_run_7.pwi > run_calculation/espresso_run_7.pwo\n",
      "Running:  /usr/bin/mpirun -np 4 pw.x -i run_calculation/espresso_run_1.pwi > run_calculation/espresso_run_1.pwo\n",
      "Running:  /usr/bin/mpirun -np 4 pw.x -i run_calculation/espresso_run_2.pwi > run_calculation/espresso_run_2.pwo\n",
      "Running:  /usr/bin/mpirun -np 4 pw.x -i run_calculation/espresso_run_5.pwi > run_calculation/espresso_run_5.pwo\n"
     ]
    }
   ],
   "source": [
    "directory = \"run_calculation\"\n",
    "# Copy the pseudo\n",
    "for file in os.listdir(directory):\n",
    "    # Skip anything that is not an espresso input file\n",
    "    if not file.endswith(\".pwi\"):\n",
    "        continue \n",
    "        \n",
    "    outputname = file.replace(\".pwi\", \".pwo\")\n",
    "    \n",
    "    total_inputname = os.path.join(directory, file)\n",
    "    total_outputname = os.path.join(directory, outputname)\n",
    "    \n",
    "    # Run the calculation\n",
    "    cmd = \"/usr/bin/mpirun -np 4 pw.x -i {} > {}\".format(total_inputname, total_outputname)\n",
    "    print(\"Running: \", cmd) # On my laptop with 4 processors (i7) it takes about 1 minute for configuration\n",
    "    os.system(cmd)"
   ]
  },
  {
   "cell_type": "markdown",
   "metadata": {},
   "source": [
    "Either we run the calculation locally or we copied in a cluster and runned there, now we have the output files\n",
    "inside the directory, we need to retrive the energies, forces, and the stress tensor (if any).\n",
    "\n",
    "As written, we must convert the total energy of the supercell in Ry, the forces in Ry/bohr and the stress in Ry/bohr^3.\n",
    "Luckyly quantum espresso already gives these qantities in the correct units, but be carefull when using different calculators.\n",
    "This problem does not arise when using ASE, as the sscha will automatically convert the ASE units to the correct one.\n",
    "Now we will parse the espresso output looking for the energy, the forces and the stress"
   ]
  },
  {
   "cell_type": "code",
   "execution_count": 41,
   "metadata": {},
   "outputs": [],
   "source": [
    "directory = \"run_calculation\"\n",
    "output_filenames = [f for f in os.listdir(directory) if f.endswith(\".pwo\")] # We select only the output files\n",
    "output_files = [os.path.join(directory, f) for f in output_filenames] # We add the directory/outpufilename to load them correctly\n",
    "\n",
    "# We prepare the array of energies\n",
    "energies = np.zeros(len(output_files)) \n",
    "for file in output_files:\n",
    "    # Get the number of the configuration.\n",
    "    id_number = int(file.split(\"_\")[-1].split(\".\")[0]) # The same as before, we need the to extract the configuration number from the filename\n",
    "    \n",
    "    # Load the file\n",
    "    ff = open(file, \"r\")\n",
    "    lines = [l.strip() for l in ff.readlines()] # Read the whole file removing tailoring spaces\n",
    "    ff.close()\n",
    "    \n",
    "    # Lets look for the energy (in espresso the first line that starts with !)\n",
    "    # next is used to find only the first occurrence\n",
    "    energy_line = next(l for l in lines if len(l) > 0 if l.split()[0] == \"!\")\n",
    "    \n",
    "    # Lets collect the energy (the actual number is the 5th item on the line, but python indexes start from 0)\n",
    "    # note, also the id_number are saved starting from 1\n",
    "    energies[id_number - 1] = float(energy_line.split()[4])\n",
    "    \n",
    "    # Now we can collect the force\n",
    "    # We need the number of atoms\n",
    "    nat_line = next( l for l in lines if len(l) > 0 if l.split()[0] == \"number\" and l.split()[2] == \"atoms/cell\" )\n",
    "    nat = int(nat_line.split()[4])\n",
    "    \n",
    "    # Now allocate the forces and read them\n",
    "    forces = np.zeros((nat, 3))\n",
    "    forces_lines = [l for l in lines if len(l) > 0 if l.split()[0] == \"atom\"] # All the lines that starts with atom will contain a force\n",
    "    for i in range(nat):\n",
    "        forces[i, :] = [float(x) for x in forces_lines[i].split()[-3:]] # Get the last three number from the line containing the force\n",
    "    \n",
    "    # Now we can take the stress tensor\n",
    "    stress = np.zeros((3,3))\n",
    "    # We pick the index of the line that starts with the words total stress\n",
    "    index_before_stress = next(i for i, l in enumerate(lines) if len(l) > 0 if l.split()[0] == \"total\" and l.split()[1] == \"stress\")\n",
    "    # The stress tensor is located just after it\n",
    "    for i in range(3):\n",
    "        index = i + index_before_stress + 1\n",
    "        stress[i, :] = [float(x) for x in lines[index].split()[:3]]\n",
    "\n",
    "    # We can save the forces_population1_X.dat and pressures_population1_X.dat files\n",
    "    force_file = os.path.join(\"data_ensemble_manual\", \"forces_population1_{}.dat\".format(id_number))\n",
    "    stress_file = os.path.join(\"data_ensemble_manual\", \"pressures_population1_{}.dat\".format(id_number))\n",
    "    np.savetxt(force_file, forces)\n",
    "    np.savetxt(stress_file, stress)\n",
    "\n",
    "# Now we read all the configurations, we can save the energy file\n",
    "energy_file = os.path.join(\"data_ensemble_manual\", \"energies_supercell_population1.dat\")\n",
    "np.savetxt(energy_file, energies)"
   ]
  },
  {
   "cell_type": "markdown",
   "metadata": {},
   "source": [
    "Now we have collected back the ensemble, and we can load it into the sscha once again.\n",
    "This time, when we load the ensemble, we need also to specify the number of configurations"
   ]
  },
  {
   "cell_type": "code",
   "execution_count": 60,
   "metadata": {},
   "outputs": [],
   "source": [
    "ensemble.load(\"data_ensemble_manual\", population = 1, N = 10)"
   ]
  },
  {
   "cell_type": "markdown",
   "metadata": {},
   "source": [
    "### The automatic submission to a cluster\n",
    "\n",
    "The python-sscha code implements also the possibility send the calculation to a remote cluster.\n",
    "This option is really usefull, as installing the full sscha package on a cluster may be cumbersome. \n",
    "\n",
    "With this option we will run all the SSCHA locally, and submit to the cluster only the DFT calculations.\n",
    "This option is compatible with queue systems as SLURM and PBS.\n",
    "\n",
    "First, we need to initialize the cluster, specifying all the relevant variables.\n",
    "Here I will use the example of the MARCONI HPC of the CINECA, but can be easily modified to \n",
    "be runned on most clusters (tested in the spanish MARENOSTRUM, the franch CURIE and IRENE)\n",
    "\n",
    "**NOTE:** at the release date Jannuary 2020, the automatic submission on a cluster is implemented only with quantum-espresso.\n"
   ]
  },
  {
   "cell_type": "code",
   "execution_count": 40,
   "metadata": {},
   "outputs": [],
   "source": [
    "# Here we configure the cluster object MARCONI\n",
    "import sscha.Cluster\n",
    "\n",
    "my_hpc = sscha.Cluster.Cluster(pwd = None)\n",
    "\n",
    "# We setup the connection info\n",
    "my_hpc.hostname = \"login.marconi.cineca.it@lmonacel\" # The command to connect via ssh to the cluster\n",
    "my_hpc.account_name = \"IscrB_COMRED\" # The name of the project for the computation\n",
    "my_hpc.workdir = \"/marconi_work/IscrB_COMRED/lmonacel/workdir\" # the directory in which the calculations are performed\n",
    "\n",
    "# Now we need to setup the espresso\n",
    "# First we must tell the cluster where to find him:\n",
    "my_hpc.binary = \"pw.x -npool NPOOL -i  PREFIX.pwi > PREFIX.pwo\"\n",
    "# Then we need to specify if some modules must be loaded in the submission script\n",
    "my_hpc.load_modules = \"\"\"\n",
    "# Here this is a bash script at the beginning of the submission\n",
    "# We can load modules\n",
    "\n",
    "module load espresso\n",
    "\"\"\"\n",
    "\n",
    "# All these information are independent from the calculation\n",
    "# Now we need some more specific info, like the number of processors, pools and other stuff\n",
    "my_hpc.n_cpu = 32 # We will use 32 processors\n",
    "my_hpc.n_nodes = 1 #In 1 node\n",
    "my_hpc.n_pool = 4 # This is an espresso specific tool, the parallel CPU are divided in 4 pools\n",
    "\n",
    "# We can also choose in how many batch of jobs we want to submit simultaneously, and how many configurations for each job\n",
    "my_hpc.batch_size = 40\n",
    "my_hpc.job_number = 10\n",
    "# In this way we submit 40 jobs, each one with 10 configurations\n",
    "\n",
    "# We can specify the time limit for each job,\n",
    "my_hpc.time = \"00:30:00\" # 30 minutes"
   ]
  },
  {
   "cell_type": "code",
   "execution_count": null,
   "metadata": {},
   "outputs": [],
   "source": [
    "# Now we can compute the ensemble using this cluster configuration, in a similar way we made with ASE:\n",
    "# We generate the ASE espresso calculator\n",
    "input_params[\"calculation\"] = \"scf\" # Setup the simple DFT calculation\n",
    "\n",
    "espresso_calc = Espresso(pseudopotentials = pseudos, input_data = input_params, kspacing = k_spacing, koffset = k_offset)\n",
    "\n",
    "# Now we use the espresso calculator with the cluster to send the calculation in the remote cluster.\n",
    "ensemble.compute_ensemble(espresso_calc, cluster = my_hpc)"
   ]
  },
  {
   "cell_type": "markdown",
   "metadata": {},
   "source": [
    "The last line will do the job. It will establish a connection to the cluster, prepare all the input files, send them,\n",
    "submit them through a slurm queue system, and collect them back. \n",
    "The interesting feature of this procedure is that if some calculation fails, the automatic process will automatically resubmit it up to five times (this number can be changed as it is a property of the cluster, to avoid wasting cputime if we setup a too low time limit. The variable is my_hpc.max_recalc.\n",
    "\n",
    "You will need a passwordless connection to use the cluster in this way. However, some cluster does not allow passwordless connections.\n",
    "In this case, you can specify the pwd in the cluster initialization:\n",
    "```python\n",
    "my_hcp = sscha.Cluster.Cluster(pwd=\"mybeautifullpassword\")\n",
    "```\n",
    "\n",
    "This is not the best thing to do, as your password will be stored in clear text, and easily stolen from you. So before using this command check if it is really impossible to establish a passwordless connection."
   ]
  },
  {
   "cell_type": "code",
   "execution_count": null,
   "metadata": {},
   "outputs": [],
   "source": [
    "# We can save the ensemble for further processing\n",
    "ensemble.save(\"data_ensemble_cluster\", population = 1)"
   ]
  },
  {
   "cell_type": "markdown",
   "metadata": {},
   "source": [
    "# The SSCHA minimization\n",
    "In the previous section we initialized the starting density matrix $\\rho_{\\mathcal R,\\Upsilon}$, \n",
    "and we generated a randomly distributed ensemble. Then we used quantum-espresso to compute the energies, forces and the stress from it.\n",
    "\n",
    "In this section we will use the extracted ensemble to optimize the density matrix $\\rho_{\\mathcal R, \\Upsilon}$ in order to minimize the free energy.\n",
    "The minimization will continue until both we converge to a minimum, or our ensemble degradates.\n",
    "Ensemble degradation occurs when our updated parameters $\\mathcal R$ and $\\Upsilon$ changes a lot with respect to the original value used to generate the ensemble.\n",
    "\n",
    "In this case the $\\mathcal R$ are fixed by symmetry, so our only degrees of freedom are in the $\\Upsilon$ matrix.\n",
    "therefore we force the system to ignore $\\mathcal R$ for the minimization convergence."
   ]
  },
  {
   "cell_type": "code",
   "execution_count": null,
   "metadata": {},
   "outputs": [],
   "source": [
    "# Lets reset other calculation if you run this cell multiple times\n",
    "ensemble.update_weights(dyn, 100) # Restore the original density matrix at T = 100 K\n",
    "minimizer = sscha.SchaMinimizer.SSCHA_Minimizer(ensemble)\n",
    "\n",
    "# Ignore the structure minimization (is fixed by symmetry)\n",
    "minimizer.minim_struct = False\n",
    "\n",
    "# Setup the minimization parameter for the covariance matrix\n",
    "minimizer.min_step_dyn = 0.05 # Values around 1 are good\n",
    "#minimizer.precond_dyn = False\n",
    "#minimizer.root_representation = \"root2\"\n",
    "\n",
    "# Setup the threshold for the ensemble wasting\n",
    "minimizer.kong_liu_ratio = 0.3 # Usually 0.5 is a good value\n",
    "\n",
    "# Lest start the minimization\n",
    "minimizer.init()\n",
    "minimizer.run()"
   ]
  },
  {
   "cell_type": "markdown",
   "metadata": {},
   "source": [
    "The privious calculation will print a lot of info on the standard output as the minimization goes.\n",
    "However, after it finishes, you can plot the major features to have a hint of what happened:"
   ]
  },
  {
   "cell_type": "code",
   "execution_count": 55,
   "metadata": {},
   "outputs": [],
   "source": [
    "minimizer.plot_results()"
   ]
  },
  {
   "cell_type": "markdown",
   "metadata": {},
   "source": [
    "Here you see several plots as a function of the minimization steps. \n",
    "The first one is the total Free energy (including anharmonic contributions) \n",
    "The second plot is the modulus of the free energy gradient with respect to the covariance $\\Upsilon$ matrix. \n",
    "The third plot is the modulus of the free energy gradient with respect to the average atomic position $\\mathcal R$.\n",
    "The final plot is a measurement of the ensemble degradance.\n",
    "You can notice that the gradient of the atomic position is always 0, this reflects the fact that the average position of the atoms must keep the\n",
    "frequencies. \n",
    "\n",
    "You can also explicitly interrogate the code for quantities like Free energy and Stress tensor now that the system is ended.\n",
    "To print some generic info you can use the finalize() method. Otherwise you can access to specific quantities:"
   ]
  },
  {
   "cell_type": "code",
   "execution_count": 56,
   "metadata": {},
   "outputs": [
    {
     "name": "stdout",
     "output_type": "stream",
     "text": [
      "\n",
      " * * * * * * * * \n",
      " *             * \n",
      " *   RESULTS   * \n",
      " *             * \n",
      " * * * * * * * * \n",
      "\n",
      "\n",
      "Minimization ended after 10 steps\n",
      "\n",
      "Free energy = -4767586.25400589 +-       1.18792173 meV\n",
      "FC gradient modulus =   19709.10738392 +-       0.16384031 bohr^2\n",
      "Struct gradient modulus =       0.00000000 +-       0.00000000 meV/A\n",
      "Kong-Liu effective sample size =  3.204267119925592\n",
      "\n",
      "\n",
      " ==== STRESS TENSOR [GPa] ==== \n",
      "      4.37878027      0.00000000     -0.00000000                0.01248128      0.00000000      0.00000000\n",
      "      0.00000000      4.37878027     -0.00000000    +-          0.00000000      0.01248128      0.00000000\n",
      "     -0.00000000      0.00000000      4.37878027                0.00000000      0.00000000      0.01248128\n",
      "\n",
      " Ab initio average stress [GPa]:\n",
      "      4.36834543      0.00000000     -0.00000000\n",
      "      0.00000000      4.36834543     -0.00000000\n",
      "     -0.00000000     -0.00000000      4.36834543\n",
      "\n"
     ]
    }
   ],
   "source": [
    "minimizer.finalize()"
   ]
  },
  {
   "cell_type": "code",
   "execution_count": 57,
   "metadata": {},
   "outputs": [
    {
     "name": "stdout",
     "output_type": "stream",
     "text": [
      "The total free energy per unit cell is: -350.4109991915717  Ry\n",
      "The total stress tensor is [Ry/bohr^3]:\n",
      "[[ 2.97663324e-04  2.71050543e-20 -1.35525272e-19]\n",
      " [ 2.71050543e-20  2.97663324e-04 -2.71050543e-20]\n",
      " [-2.16840434e-19  2.71050543e-20  2.97663324e-04]]\n",
      "And the stochastic error on the stress tensor is:\n",
      "[[8.48460188e-07 0.00000000e+00 0.00000000e+00]\n",
      " [0.00000000e+00 8.48460188e-07 0.00000000e+00]\n",
      " [0.00000000e+00 0.00000000e+00 8.48460188e-07]]\n",
      "The stocastic error of the free energy instead, was: 8.731060497873162e-05  Ry\n"
     ]
    }
   ],
   "source": [
    "print(\"The total free energy per unit cell is:\", minimizer.get_free_energy(), \" Ry\")\n",
    "print(\"The total stress tensor is [Ry/bohr^3]:\")\n",
    "print(minimizer.get_stress_tensor()[0])\n",
    "print(\"And the stochastic error on the stress tensor is:\")\n",
    "print(minimizer.get_stress_tensor()[1])\n",
    "print(\"The stocastic error of the free energy instead, was:\", minimizer.get_free_energy(return_error = True)[1], \" Ry\")"
   ]
  },
  {
   "cell_type": "markdown",
   "metadata": {},
   "source": [
    "## Saving the results\n",
    "\n",
    "We completed the minimization, now we can save the final results.\n",
    "In particular we can save the density matrix $\\rho_{\\mathcal R, \\Upsilon}$. The important quantities are the average atomic positions,\n",
    "and the covariance matrix.\n",
    "\n",
    "These two quantities are both stored inside the auxiliary dynamical matrix. We can access it through:\n",
    "```python\n",
    "minimizer.dyn\n",
    "```\n",
    "\n",
    "We can, for example, show new average structure (in this case will be equal to the begining one, as it is fixed by symmetry) and print the frequencies of the effective matrix, to see how they changed."
   ]
  },
  {
   "cell_type": "code",
   "execution_count": 60,
   "metadata": {},
   "outputs": [
    {
     "name": "stdout",
     "output_type": "stream",
     "text": [
      " Old frequencies |  New frequencies\n",
      "          0.0000 |          -0.0000  cm-1\n",
      "          0.0000 |          -0.0000  cm-1\n",
      "          0.0000 |           0.0000  cm-1\n",
      "         52.7799 |          51.2496  cm-1\n",
      "         52.7799 |          51.2496  cm-1\n",
      "         52.7799 |          51.2496  cm-1\n",
      "         52.7799 |          51.2496  cm-1\n",
      "         52.7799 |          51.2496  cm-1\n",
      "         52.7799 |          51.2496  cm-1\n",
      "         52.7799 |          51.2496  cm-1\n",
      "         52.7799 |          51.2496  cm-1\n",
      "         55.6362 |          56.2187  cm-1\n",
      "         55.6362 |          56.2187  cm-1\n",
      "         55.6362 |          56.2187  cm-1\n",
      "         55.6362 |          56.2187  cm-1\n",
      "         55.6362 |          56.2187  cm-1\n",
      "         55.6362 |          56.2187  cm-1\n",
      "         55.6362 |          56.2187  cm-1\n",
      "         55.6362 |          56.2187  cm-1\n",
      "         77.3157 |          60.2082  cm-1\n",
      "         77.3157 |          60.2082  cm-1\n",
      "         77.3157 |          60.2082  cm-1\n",
      "         77.3157 |          60.2082  cm-1\n",
      "         80.2691 |          60.2082  cm-1\n",
      "         80.2691 |          60.2082  cm-1\n",
      "         80.2691 |          64.3616  cm-1\n",
      "         80.2691 |          64.3616  cm-1\n",
      "         80.2691 |          64.3616  cm-1\n",
      "         80.2691 |          76.8430  cm-1\n",
      "         99.2432 |          76.8430  cm-1\n",
      "         99.2432 |          76.8430  cm-1\n",
      "         99.2432 |          76.8430  cm-1\n",
      "         99.2432 |          99.4508  cm-1\n",
      "        101.7456 |          99.4508  cm-1\n",
      "        101.7456 |          99.4508  cm-1\n",
      "        101.7456 |          99.4508  cm-1\n",
      "        179.9445 |         101.9649  cm-1\n",
      "        179.9445 |         101.9649  cm-1\n",
      "        179.9445 |         101.9649  cm-1\n",
      "        179.9445 |         101.9649  cm-1\n",
      "        179.9445 |         101.9649  cm-1\n",
      "        179.9445 |         101.9649  cm-1\n",
      "        186.1459 |         136.6898  cm-1\n",
      "        186.1459 |         136.6898  cm-1\n",
      "        186.1459 |         136.6898  cm-1\n",
      "        187.8042 |         143.2382  cm-1\n",
      "        187.8042 |         143.2382  cm-1\n",
      "        187.8042 |         143.2382  cm-1\n"
     ]
    }
   ],
   "source": [
    "# Draw the 3D structure of the final average atomic positions\n",
    "view(minimizer.dyn.structure.get_ase_atoms())\n",
    "\n",
    "# We can save the dynamical matrix\n",
    "minimizer.dyn.save_qe(\"dyn_pop1_\")\n",
    "\n",
    "# Print the frequencies before and after the minimization\n",
    "w_old, p_old = ensemble.dyn_0.DiagonalizeSupercell() # This is the representation of the density matrix used to generate the ensemble\n",
    "w_new, p_new = minimizer.dyn.DiagonalizeSupercell()\n",
    "\n",
    "# We can now print them \n",
    "print(\" Old frequencies |  New frequencies\")\n",
    "print(\"\\n\".join([\"{:16.4f} | {:16.4f}  cm-1\".format(w_old[i] * CC.Units.RY_TO_CM, w_new[i] * CC.Units.RY_TO_CM) for i in range(len(w_old))]))"
   ]
  },
  {
   "cell_type": "markdown",
   "metadata": {},
   "source": [
    "## Congratulations! \n",
    "You performed your first SSCHA relaxation! \n",
    "However, we still are not done. Most likely, the SSCHA stopped when the original ensemble was wasted.\n",
    "This means that that ensemble is no more significative to describe the new density matrix. \n",
    "We should extract with the last dynamical matrix a new ensemble, compute energies and forces and then minimize again.\n",
    "This procedure should iterated until convergence is obtained.\n",
    "\n",
    "There are many ways, you can manually iterate the ensemble generation, simply rerunning the cell of this notebook (but loading the new dynamical matrix we saved as dyn_pop1_).\n",
    "However, the SSCHA code offers a module (Relax) that can automatize these iterations for you.\n",
    "Indeed, in this case, you need to setup an automatic calculator with ASE, locally or with the cluster option.\n",
    "\n",
    "You can go to the next tutorials. "
   ]
  },
  {
   "cell_type": "code",
   "execution_count": null,
   "metadata": {},
   "outputs": [],
   "source": []
  }
 ],
 "metadata": {
  "kernelspec": {
   "display_name": "Python 2",
   "language": "python",
   "name": "python2"
  },
  "language_info": {
   "codemirror_mode": {
    "name": "ipython",
    "version": 3
   },
   "file_extension": ".py",
   "mimetype": "text/x-python",
   "name": "python",
   "nbconvert_exporter": "python",
   "pygments_lexer": "ipython3",
   "version": "3.7.0"
  }
 },
 "nbformat": 4,
 "nbformat_minor": 2
}
